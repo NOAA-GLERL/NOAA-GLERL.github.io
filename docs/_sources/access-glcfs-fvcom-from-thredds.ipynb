{
 "cells": [
  {
   "cell_type": "markdown",
   "id": "da5cf08a",
   "metadata": {},
   "source": [
    "# Access FVCOM model output from THREDDS Server\n",
    "\n",
    "This notebook is help users get started using FVCOM output from the [GLERL THREDDS Server](https://www.glerl.noaa.gov/thredds/catalog/catalog.html). This example includes data from the Great Lakes Coastal Forecasting System ([GLCFS](https://www.glerl.noaa.gov/res/glcfs/)). Learn more about [GLCFS here](https://www.glerl.noaa.gov/res/Programs/ipemf/GLCFS_nextgen.html) and how to access both experimental and operational data on the [Data Access page here](https://www.glerl.noaa.gov/res/Programs/ipemf/glcfs_data_access.html).\n",
    "\n",
    "The Python modules used in this example are fairly common. We also provide examples using the module [PyFVCOM](https://github.com/pmlmodelling/pyfvcom).  More examples of PyFVCOM can be found [here](https://notebook.community/pwcazenave/PyFVCOM/examples/pyfvcom_plot_example).\n",
    "\n",
    "Thank you those whose code we based this notebook from including Rich Signell USGS [avavilable here](https://nbviewer.org/github/rsignell-usgs/ipython-notebooks/blob/master/files/FVCOM_depth_and_velocity.ipynb) and Tristan Salles [available here](https://tristansalles.github.io/Coast/queryocean/oceanforecast.html)."
   ]
  },
  {
   "cell_type": "code",
   "execution_count": null,
   "id": "9b7f692a",
   "metadata": {},
   "outputs": [],
   "source": [
    "%matplotlib inline\n",
    "from pylab import *\n",
    "import numpy as np\n",
    "import matplotlib.tri as Tri\n",
    "import matplotlib.pyplot as plt\n",
    "import netCDF4\n",
    "import datetime as dt\n",
    "import pandas as pd\n",
    "from io import StringIO\n",
    "\n",
    "\n",
    "%config InlineBackend.figure_format = 'png'\n",
    "plt.rcParams['mathtext.fontset'] = 'cm'\n",
    "\n",
    "import warnings\n",
    "warnings.filterwarnings('ignore')"
   ]
  },
  {
   "cell_type": "markdown",
   "id": "dba9153e",
   "metadata": {},
   "source": [
    "## Loading the FVCOM file\n"
   ]
  },
  {
   "cell_type": "code",
   "execution_count": null,
   "id": "61fa3b17",
   "metadata": {
    "scrolled": true
   },
   "outputs": [],
   "source": [
    "# Set the URL\n",
    "url = 'https://www.glerl.noaa.gov/thredds/dodsC/glcfs/erie/nowcast/041712_0001.nc'\n",
    "\n",
    "# Load it via OPeNDAP\n",
    "nc = netCDF4.Dataset(url)\n",
    "\n",
    "# Query the variables\n",
    "for var in nc.variables.keys() :\n",
    "    print(var)"
   ]
  },
  {
   "cell_type": "code",
   "execution_count": null,
   "id": "7b14d08e",
   "metadata": {},
   "outputs": [],
   "source": [
    "# take a look at the \"metadata\" for the variable \"u\"\n",
    "print (nc.variables['u'])"
   ]
  },
  {
   "cell_type": "markdown",
   "id": "c16ef38e",
   "metadata": {},
   "source": [
    "## Set FVCOM simulation time"
   ]
  },
  {
   "cell_type": "code",
   "execution_count": null,
   "id": "546e9c2a",
   "metadata": {},
   "outputs": [],
   "source": [
    "# Enter your specific date & time in UTC\n",
    "# This must correspond to the file you selected in the 'URL'\n",
    "# variable above\n",
    "start = dt.datetime(2023,4,17,12,0,0) # year,month,day,hour,minute,second\n",
    "\n",
    "# Get desired time step  \n",
    "time_var = nc.variables['time']\n",
    "itime = netCDF4.date2index(start,time_var,select='nearest') \n",
    "print(itime, start)"
   ]
  },
  {
   "cell_type": "code",
   "execution_count": null,
   "id": "4e14ad27",
   "metadata": {},
   "outputs": [],
   "source": [
    "# Convert datetime format\n",
    "dtime = netCDF4.num2date(time_var[itime],time_var.units)\n",
    "daystr = dtime.strftime('%Y-%b-%d %H:%M')\n",
    "print(daystr)"
   ]
  },
  {
   "cell_type": "markdown",
   "id": "fc8f0cf4",
   "metadata": {},
   "source": [
    "## Get specific data from FVCOM outputs"
   ]
  },
  {
   "cell_type": "code",
   "execution_count": null,
   "id": "c8f4deeb",
   "metadata": {},
   "outputs": [],
   "source": [
    "# Get lon,lat coordinates for nodes (depth)\n",
    "lat = nc.variables['lat'][:]\n",
    "lon = nc.variables['lon'][:]\n",
    "\n",
    "# Get lon,lat coordinates for cell centers (depth)\n",
    "latc = nc.variables['latc'][:]\n",
    "lonc = nc.variables['lonc'][:]\n",
    "\n",
    "# Get depth\n",
    "h = nc.variables['h'][:]  # depth"
   ]
  },
  {
   "cell_type": "code",
   "execution_count": null,
   "id": "b3a777ab",
   "metadata": {},
   "outputs": [],
   "source": [
    "# Get Connectivity array\n",
    "nv = nc.variables['nv'][:].T - 1 "
   ]
  },
  {
   "cell_type": "code",
   "execution_count": null,
   "id": "b8a5d904",
   "metadata": {},
   "outputs": [],
   "source": [
    "# Take FVCOM Delaunay grid\n",
    "tri = Tri.Triangulation(lon,lat,triangles=nv)"
   ]
  },
  {
   "cell_type": "markdown",
   "id": "ad7cdf82",
   "metadata": {},
   "source": [
    "## Find FVCOM velocity field"
   ]
  },
  {
   "cell_type": "code",
   "execution_count": null,
   "id": "4ce87692",
   "metadata": {},
   "outputs": [],
   "source": [
    "# Get current at layer [0 = surface, -1 = bottom]\n",
    "ilayer = 0\n",
    "u = nc.variables['u'][itime, ilayer, :]\n",
    "v = nc.variables['v'][itime, ilayer, :]"
   ]
  },
  {
   "cell_type": "markdown",
   "id": "6429ced5",
   "metadata": {},
   "source": [
    "## Visualize FVCOM forecast model"
   ]
  },
  {
   "cell_type": "code",
   "execution_count": null,
   "id": "3b46f77e",
   "metadata": {},
   "outputs": [],
   "source": [
    "# Region to plot\n",
    "# print(np.min(latc), np.max(latc))\n",
    "# print(np.min(lonc), np.max(lonc))\n",
    "ax = [np.min(lonc), np.max(lonc), np.min(latc), np.max(latc)]\n",
    "\n",
    "# Find velocity points in bounding box\n",
    "ind = np.argwhere((lonc >= ax[0]) & (lonc <= ax[1]) & (latc >= ax[2]) & (latc <= ax[3]))"
   ]
  },
  {
   "cell_type": "code",
   "execution_count": null,
   "id": "8a6bbba0",
   "metadata": {},
   "outputs": [],
   "source": [
    "# Depth contours to plot\n",
    "max_depth = -int(max(nc.variables['h'][:])) - 1\n",
    "levels=np.arange(max_depth,10,1)   "
   ]
  },
  {
   "cell_type": "code",
   "execution_count": null,
   "id": "e9df4db1",
   "metadata": {},
   "outputs": [],
   "source": [
    "# To make the figure readable subsample the number of vector to draw.\n",
    "subsample = 3\n",
    "np.random.shuffle(ind)\n",
    "Nvec = int(len(ind) / subsample)\n",
    "idv = ind[:Nvec]"
   ]
  },
  {
   "cell_type": "markdown",
   "id": "386a79ca",
   "metadata": {},
   "source": [
    "## Plot in iPython"
   ]
  },
  {
   "cell_type": "code",
   "execution_count": null,
   "id": "85adaf21",
   "metadata": {},
   "outputs": [],
   "source": [
    "# tricontourf plot of water depth with vectors on top\n",
    "fig1 = plt.figure(figsize=(10,7))\n",
    "\n",
    "ax1 = fig1.add_subplot(aspect=(1.0/np.cos(np.mean(lat)*np.pi/180.0)))\n",
    "\n",
    "# Water depth\n",
    "plt.tricontourf(tri, -h, levels=levels, cmap=plt.cm.ocean)\n",
    "plt.axis(ax)\n",
    "\n",
    "ax1.patch.set_facecolor('0.5')\n",
    "cbar=plt.colorbar()\n",
    "cbar.set_label('Water Depth (m)', rotation=-90, labelpad=18)\n",
    "\n",
    "# Quiver plot\n",
    "Q = ax1.quiver(lonc[idv],latc[idv],u[idv],v[idv],scale=20)\n",
    "qk = plt.quiverkey(Q,0.92,0.08,0.50,'0.5 m/s',labelpos='W')\n",
    "\n",
    "plt.title('Lake Erie Coastal Forecasting System Velocity, Layer %d, %s' % (ilayer, daystr))\n",
    "plt.show()"
   ]
  },
  {
   "cell_type": "markdown",
   "id": "6d77b9b0",
   "metadata": {},
   "source": [
    "## Extract Temperature Profile"
   ]
  },
  {
   "cell_type": "code",
   "execution_count": null,
   "id": "47c9b261",
   "metadata": {},
   "outputs": [],
   "source": [
    "# Enter desired (Station, Lat, Lon) values here:\n",
    "x = '''\n",
    "Station, Lat, Lon\n",
    "Cleveland OH,   41.72883, -81.798497\n",
    "'''\n",
    "# Create a Pandas DataFrame\n",
    "obs=pd.read_csv(StringIO(x.strip()), sep=\",\\s*\",index_col='Station',engine='python')\n",
    "# Convert longitude coordinate\n",
    "obs['Lon'] = 360.0 + obs['Lon']\n",
    "obs"
   ]
  },
  {
   "cell_type": "code",
   "execution_count": null,
   "id": "fe73a9e0",
   "metadata": {},
   "outputs": [],
   "source": [
    "# Find the indices of the points in (x,y) closest to the points in (xi,yi)\n",
    "def nearxy(x,y,xi,yi):\n",
    "    \n",
    "    ind=np.ones(len(xi),dtype=int)\n",
    "    for i in np.arange(len(xi)):\n",
    "        dist=np.sqrt((x-xi[i])**2+(y-yi[i])**2)\n",
    "        ind[i]=dist.argmin()\n",
    "        \n",
    "    return ind\n",
    "\n",
    "# Query to find closest NECOFS nodes to station locations\n",
    "obs['NODE-ID'] = nearxy(nc['lon'][:],nc['lat'][:],obs['Lon'],obs['Lat'])\n",
    "obs"
   ]
  },
  {
   "cell_type": "code",
   "execution_count": null,
   "id": "44206a8a",
   "metadata": {},
   "outputs": [],
   "source": [
    "# Get temperature profile from location named above\n",
    "# At the time defined above\n",
    "nsta=len(obs)\n",
    "z=np.ones((len(nc.variables['siglay'][:,0]),nsta))\n",
    "\n",
    "for i in range(nsta):\n",
    "    # Find depth in meters of center of sigma layer\n",
    "    depths=nc.variables['siglay'][:,obs['NODE-ID'][i]] * nc.variables['h'][obs['NODE-ID'][i]]\n",
    "    z[:,i] = nc['temp'][0,:,obs['NODE-ID'][i]]\n",
    "    \n",
    "    \n",
    "# Make a DataFrame out of the interpolated time series at each location\n",
    "zvals=pd.DataFrame(z[:],index=depths)\n",
    "zvals.index.name = 'depth_m'\n",
    "zvals.columns=['temp_C']\n",
    "\n",
    "# Or print all values\n",
    "print(zvals)"
   ]
  },
  {
   "cell_type": "code",
   "execution_count": null,
   "id": "998fc2b3",
   "metadata": {},
   "outputs": [],
   "source": [
    "# Plot temperature profile\n",
    "\n",
    "fig1 = plt.figure()\n",
    "ax1 = fig1.add_subplot(111)\n",
    "ax1.plot(zvals['temp_C'],zvals.index,'o-')\n",
    "\n",
    "# Draw x label\n",
    "ax1.set_xlabel('Temperature (C)')\n",
    "ax1.xaxis.set_label_position('top') # this moves the label to the top\n",
    "ax1.xaxis.set_ticks_position('top') # this moves the ticks to the top\n",
    "\n",
    "# Draw y label\n",
    "ax1.set_ylabel('Depth (m)')\n",
    "\n",
    "plt.show()"
   ]
  },
  {
   "cell_type": "markdown",
   "id": "38f87a6a",
   "metadata": {},
   "source": [
    "## Extract Current Profile"
   ]
  },
  {
   "cell_type": "code",
   "execution_count": null,
   "id": "1de16686",
   "metadata": {},
   "outputs": [],
   "source": [
    "# Enter desired (Station, Lat, Lon) values here:\n",
    "x = '''\n",
    "Station, Lat, Lon\n",
    "Cleveland OH,   41.72883, -81.798497\n",
    "'''\n",
    "# Create a Pandas DataFrame\n",
    "obs=pd.read_csv(StringIO(x.strip()), sep=\",\\s*\",index_col='Station',engine='python')\n",
    "# Convert longitude coordinate\n",
    "obs['Lon'] = 360.0 + obs['Lon']\n",
    "obs\n"
   ]
  },
  {
   "cell_type": "code",
   "execution_count": null,
   "id": "d39383e5",
   "metadata": {},
   "outputs": [],
   "source": [
    "# Same code as the temperature profile above with addition of \n",
    "# nearest cell center coordinate (e.g., 'latc' & 'lonc')\n",
    "# Find the indices of the points in (x,y) closest to the points in (xi,yi)\n",
    "def nearxy(x,y,xi,yi):\n",
    "    \n",
    "    ind=np.ones(len(xi),dtype=int)\n",
    "    for i in np.arange(len(xi)):\n",
    "        dist=np.sqrt((x-xi[i])**2+(y-yi[i])**2)\n",
    "        ind[i]=dist.argmin()\n",
    "        \n",
    "    return ind\n",
    "\n",
    "# Query to find closest NECOFS nodes to station locations\n",
    "obs['NODE-ID'] = nearxy(nc['lon'][:],nc['lat'][:],obs['Lon'],obs['Lat'])\n",
    "obs['NODE-ID-c'] = nearxy(nc['lonc'][:],nc['latc'][:],obs['Lon'],obs['Lat'])\n",
    "obs"
   ]
  },
  {
   "cell_type": "code",
   "execution_count": null,
   "id": "36ba6739",
   "metadata": {},
   "outputs": [],
   "source": [
    "# Create empty lists to store u,v value information\n",
    "nsta=len(obs)\n",
    "sigma_layers = len(nc.variables['siglay'][:,0]) # number of depth layers\n",
    "ui=np.ones((sigma_layers,nsta))\n",
    "vi=np.ones((sigma_layers,nsta))"
   ]
  },
  {
   "cell_type": "code",
   "execution_count": null,
   "id": "4a49cb06",
   "metadata": {},
   "outputs": [],
   "source": [
    "# Get u values profile from location named above\n",
    "# At the time defined above\n",
    "for i in range(nsta):\n",
    "    ui[:,i] = nc['u'][itime,:,obs['NODE-ID-c'][i]]"
   ]
  },
  {
   "cell_type": "code",
   "execution_count": null,
   "id": "eedc5657",
   "metadata": {},
   "outputs": [],
   "source": [
    "# Get v values profile from location named above\n",
    "# At the time defined above\n",
    "for i in range(nsta):\n",
    "    vi[:,i] = nc['v'][itime,:,obs['NODE-ID-c'][i]]"
   ]
  },
  {
   "cell_type": "code",
   "execution_count": null,
   "id": "b607347c",
   "metadata": {},
   "outputs": [],
   "source": [
    "# Get depths nearest observation point\n",
    "for i in range(nsta):\n",
    "    depths=nc.variables['siglay'][:,obs['NODE-ID'][i]] * nc.variables['h'][obs['NODE-ID'][i]]\n",
    "\n",
    "# Make a DataFrame out of the interpolated time series at each location\n",
    "uvals=pd.DataFrame(ui[:],index=depths)\n",
    "uvals.index.name = 'depth_m'\n",
    "uvals.columns=['u']\n",
    "\n",
    "vvals=pd.DataFrame(vi[:],index=depths)\n",
    "vvals.index.name = 'depth_m'\n",
    "vvals.columns=['v']\n",
    "\n",
    "circ_profile = pd.concat([uvals, vvals], axis=1)\n",
    "\n",
    "#Print all values\n",
    "print(circ_profile)"
   ]
  },
  {
   "cell_type": "code",
   "execution_count": null,
   "id": "fbf45b8f",
   "metadata": {},
   "outputs": [],
   "source": []
  }
 ],
 "metadata": {
  "kernelspec": {
   "display_name": "Python 3 (ipykernel)",
   "language": "python",
   "name": "python3"
  },
  "language_info": {
   "codemirror_mode": {
    "name": "ipython",
    "version": 3
   },
   "file_extension": ".py",
   "mimetype": "text/x-python",
   "name": "python",
   "nbconvert_exporter": "python",
   "pygments_lexer": "ipython3",
   "version": "3.10.9"
  }
 },
 "nbformat": 4,
 "nbformat_minor": 5
}
