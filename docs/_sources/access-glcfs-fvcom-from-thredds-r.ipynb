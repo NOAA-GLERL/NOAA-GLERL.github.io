{
 "cells": [
  {
   "cell_type": "markdown",
   "id": "64361d4c",
   "metadata": {},
   "source": [
    "# Access GLCFS model output from THREDDS Server with R\n",
    "\n",
    "This notebook is help users get started using FVCOM output from the [GLERL THREDDS Server](https://www.glerl.noaa.gov/thredds/catalog/catalog.html). This example includes data from the Great Lakes Coastal Forecasting System ([GLCFS](https://www.glerl.noaa.gov/res/glcfs/)). Learn more about [GLCFS here](https://www.glerl.noaa.gov/res/Programs/ipemf/GLCFS_nextgen.html) and how to access both experimental and operational data on the [Data Access page here](https://www.glerl.noaa.gov/res/Programs/ipemf/glcfs_data_access.html).\n",
    "\n",
    "For plotting in R, this script uses kml files that represent the FVCOM grid nodes and elements. Users can download the kml files from the [link here](https://www.glerl.noaa.gov/emf/kml/)."
   ]
  },
  {
   "cell_type": "markdown",
   "id": "7dae30a4",
   "metadata": {},
   "source": [
    "## Load required libraries"
   ]
  },
  {
   "cell_type": "code",
   "execution_count": 1,
   "id": "d26c7317",
   "metadata": {},
   "outputs": [
    {
     "name": "stderr",
     "output_type": "stream",
     "text": [
      "Linking to GEOS 3.9.1, GDAL 3.2.1, PROJ 7.2.1; sf_use_s2() is TRUE\n",
      "\n",
      "Loading required package: sp\n",
      "\n",
      "Loading required package: spam\n",
      "\n",
      "Spam version 2.9-1 (2022-08-07) is loaded.\n",
      "Type 'help( Spam)' or 'demo( spam)' for a short introduction \n",
      "and overview of this package.\n",
      "Help for individual functions is also obtained by adding the\n",
      "suffix '.spam' to the function name, e.g. 'help( chol.spam)'.\n",
      "\n",
      "\n",
      "Attaching package: 'spam'\n",
      "\n",
      "\n",
      "The following objects are masked from 'package:base':\n",
      "\n",
      "    backsolve, forwardsolve\n",
      "\n",
      "\n",
      "Loading required package: viridis\n",
      "\n",
      "Loading required package: viridisLite\n",
      "\n",
      "\n",
      "Try help(fields) to get started.\n",
      "\n"
     ]
    }
   ],
   "source": [
    "# install.packages(ncdf4)\n",
    "# conda install -c conda-forge r-ncdf4\n",
    "library(ncdf4)\n",
    "\n",
    "# install.packages(sf)\n",
    "# conda install -c conda-forge r-sf\n",
    "library(sf)\n",
    "\n",
    "# install.packages(codetools)\n",
    "# conda install -c conda-forge r-codetools\n",
    "library(codetools)\n",
    "\n",
    "# install.packages(raster)\n",
    "# conda install -c conda-forge r-raster\n",
    "library(raster)\n",
    "\n",
    "# install.packages(sf)\n",
    "# conda install -c conda-forge r-fields\n",
    "library(fields)"
   ]
  },
  {
   "cell_type": "markdown",
   "id": "1f91994b",
   "metadata": {},
   "source": [
    "## Settings"
   ]
  },
  {
   "cell_type": "code",
   "execution_count": 2,
   "id": "620e83b0",
   "metadata": {},
   "outputs": [],
   "source": [
    "lk <- 'erie'        # which lake?     superior | michigan-huron | hec | erie | ontario \n",
    "typ <- 'nowcast'    # type of output?  nowcast | forecast\n",
    "\n",
    "ystrday <- format(as.Date(date(), format='%c')-1, format='%m%d%H')\n",
    "mmddhh <- ystrday  # date (month day hour).... init time for forecasts;  *last* hour for nowcasts\n",
    "#mmddhh <- '051500'  # or set manually to some specific day"
   ]
  },
  {
   "cell_type": "markdown",
   "id": "7ee6748e",
   "metadata": {},
   "source": [
    "## Build URL to read netCDF data"
   ]
  },
  {
   "cell_type": "code",
   "execution_count": 3,
   "id": "953ef8aa",
   "metadata": {},
   "outputs": [],
   "source": [
    "base_url <- 'https://www.glerl.noaa.gov/thredds/dodsC/glcfs/'\n",
    "filename <- sprintf('%s_0001.nc', mmddhh)\n",
    "\n",
    "url <- paste(base_url, lk, typ, filename, sep='/')"
   ]
  },
  {
   "cell_type": "code",
   "execution_count": 4,
   "id": "497654fe",
   "metadata": {},
   "outputs": [
    {
     "name": "stdout",
     "output_type": "stream",
     "text": [
      "[1] \"052200\"\n"
     ]
    }
   ],
   "source": [
    "print(ystrday)"
   ]
  },
  {
   "cell_type": "markdown",
   "id": "c0f065db",
   "metadata": {},
   "source": [
    "## Loading the FVCOM file"
   ]
  },
  {
   "cell_type": "code",
   "execution_count": 5,
   "id": "1872bff0",
   "metadata": {},
   "outputs": [
    {
     "name": "stdout",
     "output_type": "stream",
     "text": [
      " [1] \"nprocs\"             \"partition\"          \"x\"                 \n",
      " [4] \"y\"                  \"lon\"                \"lat\"               \n",
      " [7] \"xc\"                 \"yc\"                 \"lonc\"              \n",
      "[10] \"latc\"               \"siglay_center\"      \"siglev_center\"     \n",
      "[13] \"h_center\"           \"h\"                  \"nv\"                \n",
      "[16] \"iint\"               \"Itime\"              \"Itime2\"            \n",
      "[19] \"Times\"              \"zeta\"               \"nbe\"               \n",
      "[22] \"ntsn\"               \"nbsn\"               \"ntve\"              \n",
      "[25] \"nbve\"               \"a1u\"                \"a2u\"               \n",
      "[28] \"aw0\"                \"awx\"                \"awy\"               \n",
      "[31] \"art2\"               \"art1\"               \"u\"                 \n",
      "[34] \"v\"                  \"tauc\"               \"omega\"             \n",
      "[37] \"ww\"                 \"ua\"                 \"va\"                \n",
      "[40] \"temp\"               \"salinity\"           \"viscofm\"           \n",
      "[43] \"viscofh\"            \"km\"                 \"kh\"                \n",
      "[46] \"kq\"                 \"q2\"                 \"q2l\"               \n",
      "[49] \"l\"                  \"short_wave\"         \"net_heat_flux\"     \n",
      "[52] \"sensible_heat_flux\" \"latent_heat_flux\"   \"long_wave\"         \n",
      "[55] \"uwind_speed\"        \"vwind_speed\"        \"wet_nodes\"         \n",
      "[58] \"wet_cells\"          \"wet_nodes_prev_int\" \"wet_cells_prev_int\"\n",
      "[61] \"wet_cells_prev_ext\" \"aice\"               \"vice\"              \n",
      "[64] \"tsfc\"               \"uuice\"              \"vvice\"             \n",
      "$long_name\n",
      "[1] \"temperature\"\n",
      "\n",
      "$standard_name\n",
      "[1] \"sea_water_temperature\"\n",
      "\n",
      "$units\n",
      "[1] \"degrees_C\"\n",
      "\n",
      "$grid\n",
      "[1] \"fvcom_grid\"\n",
      "\n",
      "$coordinates\n",
      "[1] \"time siglay lat lon\"\n",
      "\n",
      "$type\n",
      "[1] \"data\"\n",
      "\n",
      "$mesh\n",
      "[1] \"fvcom_mesh\"\n",
      "\n",
      "$location\n",
      "[1] \"node\"\n",
      "\n"
     ]
    }
   ],
   "source": [
    "ncid <- nc_open(url)  # make sure to CLOSE netCDF stream later!  (otherwise errors will occur)\n",
    "print(names(ncid$var))   # print all var names\n",
    "print(ncatt_get(ncid, 'temp')) # print temperature metadata"
   ]
  },
  {
   "cell_type": "markdown",
   "id": "4346c793",
   "metadata": {},
   "source": [
    "## Define a function to parse FVCOM dates & times"
   ]
  },
  {
   "cell_type": "code",
   "execution_count": 6,
   "id": "174a4399",
   "metadata": {},
   "outputs": [],
   "source": [
    "# hint:  add this function to your ~/.Rprofile\n",
    "fvcom_dts <- function(ncid, origin='1970-01-01'){\n",
    "        days <-  ncvar_get(ncid, \"Itime\") # days since unix epoch\n",
    "        msec <- ncvar_get(ncid, \"Itime2\") # millisecs since day began\n",
    "        # now convert to seconds and parse as POSIXct\n",
    "        dts <- as.POSIXct(days*3600*24 + msec*1e-3, origin = origin, tz = \"UTC\")\n",
    "        return(dts)\n",
    "}"
   ]
  },
  {
   "cell_type": "code",
   "execution_count": 7,
   "id": "05fc3934",
   "metadata": {},
   "outputs": [
    {
     "name": "stdout",
     "output_type": "stream",
     "text": [
      " [1] \"2023-05-21 13:00:00 UTC\" \"2023-05-21 14:00:00 UTC\"\n",
      " [3] \"2023-05-21 15:00:00 UTC\" \"2023-05-21 16:00:00 UTC\"\n",
      " [5] \"2023-05-21 17:00:00 UTC\" \"2023-05-21 18:00:00 UTC\"\n",
      " [7] \"2023-05-21 19:00:00 UTC\" \"2023-05-21 20:00:00 UTC\"\n",
      " [9] \"2023-05-21 21:00:00 UTC\" \"2023-05-21 22:00:00 UTC\"\n",
      "[11] \"2023-05-21 23:00:00 UTC\" \"2023-05-22 00:00:00 UTC\"\n"
     ]
    }
   ],
   "source": [
    "# now use the function\n",
    "dts <- fvcom_dts(ncid)\n",
    "print(dts)"
   ]
  },
  {
   "cell_type": "markdown",
   "id": "083b9572",
   "metadata": {},
   "source": [
    "## Visualize FVCOM surface temperatures\n",
    "\n",
    "Read in Thiessen Polygons corresponding to nodes and plot the surface temperature data. The voroni.kml file can be downloaded by [clicking here](https://www.glerl.noaa.gov/emf/kml/eri/voronoi.kml)."
   ]
  },
  {
   "cell_type": "code",
   "execution_count": 8,
   "id": "a6cbde9f",
   "metadata": {},
   "outputs": [
    {
     "name": "stdout",
     "output_type": "stream",
     "text": [
      "Reading layer `voronoi' from data source \n",
      "  `https://www.glerl.noaa.gov/emf/kml/eri/voronoi.kml' using driver `KML'\n",
      "Simple feature collection with 6106 features and 2 fields\n",
      "Geometry type: MULTIPOLYGON\n",
      "Dimension:     XY\n",
      "Bounding box:  xmin: -83.47519 ymin: 41.38285 xmax: -78.854 ymax: 42.90551\n",
      "Geodetic CRS:  WGS 84\n"
     ]
    }
   ],
   "source": [
    "polys <- st_read('https://www.glerl.noaa.gov/emf/kml/eri/voronoi.kml')"
   ]
  },
  {
   "cell_type": "code",
   "execution_count": 13,
   "id": "1e98a4ab",
   "metadata": {},
   "outputs": [
    {
     "data": {
      "text/html": [
       "<strong>png:</strong> 3"
      ],
      "text/latex": [
       "\\textbf{png:} 3"
      ],
      "text/markdown": [
       "**png:** 3"
      ],
      "text/plain": [
       "png \n",
       "  3 "
      ]
     },
     "metadata": {},
     "output_type": "display_data"
    },
    {
     "data": {
      "image/png": "[encoded data removed]",
      "text/plain": [
       "Plot with title \"Water Surface Temp (deg C)\""
      ]
     },
     "metadata": {
      "image/png": {
       "height": 420,
       "width": 420
      }
     },
     "output_type": "display_data"
    }
   ],
   "source": [
    "# read surface tmps and assign as attribute to SpatialPolygons\n",
    "temp_sfc <- ncvar_get(ncid, 'temp')[,1,1]\n",
    "\n",
    "polys$T <- temp_sfc\n",
    "\n",
    "#draw plot\n",
    "# png('sfc_T.png', width=1000, height=800)\n",
    "plot(polys[,'T'], border=NA, axes=T, nbreaks=50, main='Water Surface Temp (deg C)')\n",
    "dev.off()"
   ]
  },
  {
   "cell_type": "markdown",
   "id": "4e6327aa",
   "metadata": {},
   "source": [
    "## Read  & plot current normalized current field\n",
    "\n",
    "To download the elems.kml file [click here](https://www.glerl.noaa.gov/emf/kml/eri/elems.kml)."
   ]
  },
  {
   "cell_type": "code",
   "execution_count": 14,
   "id": "5d332c1f",
   "metadata": {},
   "outputs": [
    {
     "name": "stdout",
     "output_type": "stream",
     "text": [
      "Reading layer `elements' from data source \n",
      "  `https://www.glerl.noaa.gov/emf/kml/eri/elems.kml' using driver `KML'\n",
      "Simple feature collection with 11509 features and 2 fields\n",
      "Geometry type: POLYGON\n",
      "Dimension:     XY\n",
      "Bounding box:  xmin: -83.47519 ymin: 41.38285 xmax: -78.854 ymax: 42.90551\n",
      "Geodetic CRS:  WGS 84\n"
     ]
    },
    {
     "data": {
      "text/html": [
       "<strong>png:</strong> 2"
      ],
      "text/latex": [
       "\\textbf{png:} 2"
      ],
      "text/markdown": [
       "**png:** 2"
      ],
      "text/plain": [
       "png \n",
       "  2 "
      ]
     },
     "metadata": {},
     "output_type": "display_data"
    }
   ],
   "source": [
    "x <- ncvar_get(ncid,'lonc')-360\n",
    "y <- ncvar_get(ncid,'latc')\n",
    "lay <- 1 # surface\n",
    "t0 <- 1 # first time step\n",
    "\n",
    "u <- ncvar_get(ncid, 'u')[,lay,t0]\n",
    "v <- ncvar_get(ncid, 'v')[,lay,t0]\n",
    "\n",
    "speed <- sqrt(u^2+v^2)*1e3 \n",
    "elems <- st_read('https://www.glerl.noaa.gov/emf/kml/eri/elems.kml') # read in elements to get bounding box\n",
    "\n",
    "png('currents.png', width=1200, height=800)\n",
    "plot(extent(elems), col=NA, ax=T, xlab=NA, ylab=NA) # draw the canvas\n",
    "arrows(x0=x, y0=y, x1=x+u/speed, y1=y+v/speed, length=.05, angle=25)\n",
    "dev.off()"
   ]
  },
  {
   "cell_type": "markdown",
   "id": "af7c2965",
   "metadata": {},
   "source": [
    "## Extract a temperature profile near a given coordinate point"
   ]
  },
  {
   "cell_type": "code",
   "execution_count": 30,
   "id": "c9e45a6c",
   "metadata": {},
   "outputs": [],
   "source": [
    "# define coords of interest\n",
    "mylat <- 42 # degrees north\n",
    "mylon <- -82 # longitude (negative degrees) West\n",
    "mypts <- cbind(mylon, mylat)"
   ]
  },
  {
   "cell_type": "code",
   "execution_count": 31,
   "id": "1f4fc63f",
   "metadata": {},
   "outputs": [
    {
     "name": "stdout",
     "output_type": "stream",
     "text": [
      "         [,1]      [,2]\n",
      "[1,] 41.99561 -82.01352\n"
     ]
    }
   ],
   "source": [
    "# read in FVCOM coords and find nearest node\n",
    "lat <- ncvar_get(ncid, 'lat')\n",
    "lon <- ncvar_get(ncid, 'lon') - 360\n",
    "pts <- cbind(lon, lat)\n",
    "idx <- which.min(rdist.earth(mypts, pts))\n",
    "\n",
    "print(cbind(lat[idx], lon[idx])) # print nearest coords for confirmation"
   ]
  },
  {
   "cell_type": "code",
   "execution_count": 32,
   "id": "44b628cc",
   "metadata": {},
   "outputs": [],
   "source": [
    "# read temperature profile at specific point\n",
    "Tz <- ncvar_get(ncid, 'temp')[idx,,] # dimensions [ Z x time ]\n",
    "h <- ncvar_get(ncid, 'h')[idx]\n",
    "sig <- ncvar_get(ncid,'siglay')[idx,]\n",
    "deps <- c(h) * as.vector(sig) # generate depths vector based on sigma levs"
   ]
  },
  {
   "cell_type": "code",
   "execution_count": 33,
   "id": "d974a00d",
   "metadata": {},
   "outputs": [
    {
     "data": {
      "text/html": [
       "<strong>png:</strong> 2"
      ],
      "text/latex": [
       "\\textbf{png:} 2"
      ],
      "text/markdown": [
       "**png:** 2"
      ],
      "text/plain": [
       "png \n",
       "  2 "
      ]
     },
     "metadata": {},
     "output_type": "display_data"
    }
   ],
   "source": [
    "png('temp_vs_depth.png', width=1200, height=700, pointsize=20)\n",
    "ti_str <- sprintf('water temp (deg C) at %4.1fN, %4.1fW', mylat, -mylon)\n",
    "image.plot(x=dts, y=-deps, z=t(Tz), ylim=rev(range(-deps)), ylab='depth (meters)', xlab=NA, main=ti_str, xaxt='n')\n",
    "axis.POSIXct(side=1, dts, format='%H:%MZ') \t\t\t\t # label hour:minute on x-axis\n",
    "axis.POSIXct(side=1, dts, format='%b-%d', line=1, lwd=0) # label month day below\n",
    "dev.off()"
   ]
  },
  {
   "cell_type": "code",
   "execution_count": 34,
   "id": "2d048e32",
   "metadata": {},
   "outputs": [],
   "source": [
    "nc_close(ncid)\n",
    "# if netcdf stream isn't closed, errors will occur next time file is accessed"
   ]
  },
  {
   "cell_type": "code",
   "execution_count": null,
   "id": "838d91fe",
   "metadata": {},
   "outputs": [],
   "source": []
  }
 ],
 "metadata": {
  "kernelspec": {
   "display_name": "R",
   "language": "R",
   "name": "ir"
  },
  "language_info": {
   "codemirror_mode": "r",
   "file_extension": ".r",
   "mimetype": "text/x-r-source",
   "name": "R",
   "pygments_lexer": "r",
   "version": "4.1.3"
  },
  "varInspector": {
   "cols": {
    "lenName": 16,
    "lenType": 16,
    "lenVar": 40
   },
   "kernels_config": {
    "python": {
     "delete_cmd_postfix": "",
     "delete_cmd_prefix": "del ",
     "library": "var_list.py",
     "varRefreshCmd": "print(var_dic_list())"
    },
    "r": {
     "delete_cmd_postfix": ") ",
     "delete_cmd_prefix": "rm(",
     "library": "var_list.r",
     "varRefreshCmd": "cat(var_dic_list()) "
    }
   },
   "types_to_exclude": [
    "module",
    "function",
    "builtin_function_or_method",
    "instance",
    "_Feature"
   ],
   "window_display": false
  }
 },
 "nbformat": 4,
 "nbformat_minor": 5
}
